{
 "cells": [
  {
   "cell_type": "code",
   "execution_count": 1,
   "metadata": {},
   "outputs": [],
   "source": [
    "import pandas as pd"
   ]
  },
  {
   "cell_type": "code",
   "execution_count": 3,
   "metadata": {},
   "outputs": [
    {
     "data": {
      "text/html": [
       "<div>\n",
       "<style scoped>\n",
       "    .dataframe tbody tr th:only-of-type {\n",
       "        vertical-align: middle;\n",
       "    }\n",
       "\n",
       "    .dataframe tbody tr th {\n",
       "        vertical-align: top;\n",
       "    }\n",
       "\n",
       "    .dataframe thead th {\n",
       "        text-align: right;\n",
       "    }\n",
       "</style>\n",
       "<table border=\"1\" class=\"dataframe\">\n",
       "  <thead>\n",
       "    <tr style=\"text-align: right;\">\n",
       "      <th></th>\n",
       "      <th>Name</th>\n",
       "      <th>Division</th>\n",
       "      <th>Region</th>\n",
       "      <th>Area</th>\n",
       "      <th>Population</th>\n",
       "    </tr>\n",
       "  </thead>\n",
       "  <tbody>\n",
       "    <tr>\n",
       "      <th>0</th>\n",
       "      <td>Thành phố Hà Nội</td>\n",
       "      <td>Thành phố Trung ương</td>\n",
       "      <td>Đồng bằng sông Hồng</td>\n",
       "      <td>3358.6</td>\n",
       "      <td>8093.9</td>\n",
       "    </tr>\n",
       "    <tr>\n",
       "      <th>1</th>\n",
       "      <td>Tỉnh Hà Giang</td>\n",
       "      <td>Tỉnh</td>\n",
       "      <td>Đông Bắc Bộ</td>\n",
       "      <td>7929.5</td>\n",
       "      <td>858.1</td>\n",
       "    </tr>\n",
       "    <tr>\n",
       "      <th>2</th>\n",
       "      <td>Tỉnh Cao Bằng</td>\n",
       "      <td>Tỉnh</td>\n",
       "      <td>Đông Bắc Bộ</td>\n",
       "      <td>6700.3</td>\n",
       "      <td>530.9</td>\n",
       "    </tr>\n",
       "    <tr>\n",
       "      <th>3</th>\n",
       "      <td>Tỉnh Bắc Kạn</td>\n",
       "      <td>Tỉnh</td>\n",
       "      <td>Đông Bắc Bộ</td>\n",
       "      <td>4860.0</td>\n",
       "      <td>314.4</td>\n",
       "    </tr>\n",
       "    <tr>\n",
       "      <th>4</th>\n",
       "      <td>Tỉnh Tuyên Quang</td>\n",
       "      <td>Tỉnh</td>\n",
       "      <td>Đông Bắc Bộ</td>\n",
       "      <td>5867.9</td>\n",
       "      <td>786.3</td>\n",
       "    </tr>\n",
       "    <tr>\n",
       "      <th>...</th>\n",
       "      <td>...</td>\n",
       "      <td>...</td>\n",
       "      <td>...</td>\n",
       "      <td>...</td>\n",
       "      <td>...</td>\n",
       "    </tr>\n",
       "    <tr>\n",
       "      <th>58</th>\n",
       "      <td>Thành phố Cần Thơ</td>\n",
       "      <td>Thành phố Trung ương</td>\n",
       "      <td>Đồng bằng sông Cửu Long</td>\n",
       "      <td>1439.0</td>\n",
       "      <td>1236.0</td>\n",
       "    </tr>\n",
       "    <tr>\n",
       "      <th>59</th>\n",
       "      <td>Tỉnh Hậu Giang</td>\n",
       "      <td>Tỉnh</td>\n",
       "      <td>Đồng bằng sông Cửu Long</td>\n",
       "      <td>1621.7</td>\n",
       "      <td>732.2</td>\n",
       "    </tr>\n",
       "    <tr>\n",
       "      <th>60</th>\n",
       "      <td>Tỉnh Sóc Trăng</td>\n",
       "      <td>Tỉnh</td>\n",
       "      <td>Đồng bằng sông Cửu Long</td>\n",
       "      <td>3311.9</td>\n",
       "      <td>1199.5</td>\n",
       "    </tr>\n",
       "    <tr>\n",
       "      <th>61</th>\n",
       "      <td>Tỉnh Bạc Liêu</td>\n",
       "      <td>Tỉnh</td>\n",
       "      <td>Đồng bằng sông Cửu Long</td>\n",
       "      <td>2669.0</td>\n",
       "      <td>908.2</td>\n",
       "    </tr>\n",
       "    <tr>\n",
       "      <th>62</th>\n",
       "      <td>Tỉnh Cà Mau</td>\n",
       "      <td>Tỉnh</td>\n",
       "      <td>Đồng bằng sông Cửu Long</td>\n",
       "      <td>5221.2</td>\n",
       "      <td>1194.3</td>\n",
       "    </tr>\n",
       "  </tbody>\n",
       "</table>\n",
       "<p>63 rows × 5 columns</p>\n",
       "</div>"
      ],
      "text/plain": [
       "                 Name              Division                   Region    Area  \\\n",
       "0    Thành phố Hà Nội  Thành phố Trung ương      Đồng bằng sông Hồng  3358.6   \n",
       "1       Tỉnh Hà Giang                  Tỉnh              Đông Bắc Bộ  7929.5   \n",
       "2       Tỉnh Cao Bằng                  Tỉnh              Đông Bắc Bộ  6700.3   \n",
       "3        Tỉnh Bắc Kạn                  Tỉnh              Đông Bắc Bộ  4860.0   \n",
       "4    Tỉnh Tuyên Quang                  Tỉnh              Đông Bắc Bộ  5867.9   \n",
       "..                ...                   ...                      ...     ...   \n",
       "58  Thành phố Cần Thơ  Thành phố Trung ương  Đồng bằng sông Cửu Long  1439.0   \n",
       "59     Tỉnh Hậu Giang                  Tỉnh  Đồng bằng sông Cửu Long  1621.7   \n",
       "60     Tỉnh Sóc Trăng                  Tỉnh  Đồng bằng sông Cửu Long  3311.9   \n",
       "61      Tỉnh Bạc Liêu                  Tỉnh  Đồng bằng sông Cửu Long  2669.0   \n",
       "62        Tỉnh Cà Mau                  Tỉnh  Đồng bằng sông Cửu Long  5221.2   \n",
       "\n",
       "    Population  \n",
       "0       8093.9  \n",
       "1        858.1  \n",
       "2        530.9  \n",
       "3        314.4  \n",
       "4        786.3  \n",
       "..         ...  \n",
       "58      1236.0  \n",
       "59       732.2  \n",
       "60      1199.5  \n",
       "61       908.2  \n",
       "62      1194.3  \n",
       "\n",
       "[63 rows x 5 columns]"
      ]
     },
     "execution_count": 3,
     "metadata": {},
     "output_type": "execute_result"
    }
   ],
   "source": [
    "df = pd.read_excel(\"provinces.xlsx\")\n",
    "df"
   ]
  },
  {
   "cell_type": "code",
   "execution_count": 34,
   "metadata": {},
   "outputs": [
    {
     "name": "stdout",
     "output_type": "stream",
     "text": [
      "List of provinces and cities: \n",
      "Thành phố Hà Nội, Tỉnh Hà Giang, Tỉnh Cao Bằng, Tỉnh Bắc Kạn, Tỉnh Tuyên Quang, Tỉnh Lào Cai, Tỉnh Điện Biên, Tỉnh Lai Châu, Tỉnh Sơn La, Tỉnh Yên Bái, Tỉnh Hoà Bình, Tỉnh Thái Nguyên, Tỉnh Lạng Sơn, Tỉnh Quảng Ninh, Tỉnh Bắc Giang, Tỉnh Phú Thọ, Tỉnh Vĩnh Phúc, Tỉnh Bắc Ninh, Tỉnh Hải Dương, Thành phố Hải Phòng, Tỉnh Hưng Yên, Tỉnh Thái Bình, Tỉnh Hà Nam, Tỉnh Nam Định, Tỉnh Ninh Bình, Tỉnh Thanh Hóa, Tỉnh Nghệ An, Tỉnh Hà Tĩnh, Tỉnh Quảng Bình, Tỉnh Quảng Trị, Tỉnh Thừa Thiên Huế, Thành phố Đà Nẵng, Tỉnh Quảng Nam, Tỉnh Quảng Ngãi, Tỉnh Bình Định, Tỉnh Phú Yên, Tỉnh Khánh Hòa, Tỉnh Ninh Thuận, Tỉnh Bình Thuận, Tỉnh Kon Tum, Tỉnh Gia Lai, Tỉnh Đắk Lắk, Tỉnh Đắk Nông, Tỉnh Lâm Đồng, Tỉnh Bình Phước, Tỉnh Tây Ninh, Tỉnh Bình Dương, Tỉnh Đồng Nai, Tỉnh Bà Rịa - Vũng Tàu, Thành phố Hồ Chí Minh, Tỉnh Long An, Tỉnh Tiền Giang, Tỉnh Bến Tre, Tỉnh Trà Vinh, Tỉnh Vĩnh Long, Tỉnh Đồng Tháp, Tỉnh An Giang, Tỉnh Kiên Giang, Thành phố Cần Thơ, Tỉnh Hậu Giang, Tỉnh Sóc Trăng, Tỉnh Bạc Liêu, Tỉnh Cà Mau\n"
     ]
    }
   ],
   "source": [
    "###Bai 1:\n",
    "names = df[\"Name\"].tolist()\n",
    "print(\"List of provinces and cities: \")\n",
    "print(*names, sep=\", \")"
   ]
  },
  {
   "cell_type": "code",
   "execution_count": 12,
   "metadata": {},
   "outputs": [
    {
     "name": "stdout",
     "output_type": "stream",
     "text": [
      "                     Name                   Region\n",
      "0        Thành phố Hà Nội      Đồng bằng sông Hồng\n",
      "19    Thành phố Hải Phòng      Đồng bằng sông Hồng\n",
      "31      Thành phố Đà Nẵng             Nam Trung Bộ\n",
      "49  Thành phố Hồ Chí Minh              Đông Nam Bộ\n",
      "58      Thành phố Cần Thơ  Đồng bằng sông Cửu Long\n"
     ]
    }
   ],
   "source": [
    "###Bai 2:\n",
    "central_cities = df[df[\"Division\"] == \"Thành phố Trung ương\"][[\"Name\",\"Region\"]]\n",
    "print(central_cities)\n"
   ]
  },
  {
   "cell_type": "code",
   "execution_count": 30,
   "metadata": {},
   "outputs": [
    {
     "name": "stdout",
     "output_type": "stream",
     "text": [
      "- Number of geographical regions in Vietnam: 8\n",
      "- Every provinces in each region: \n",
      "  + Bắc Trung Bộ:Tỉnh Thanh Hóa, Tỉnh Nghệ An, Tỉnh Hà Tĩnh, Tỉnh Quảng Bình, Tỉnh Quảng Trị, Tỉnh Thừa Thiên Huế\n",
      "  + Nam Trung Bộ:Tỉnh Quảng Nam, Tỉnh Quảng Ngãi, Tỉnh Bình Định, Tỉnh Phú Yên, Tỉnh Khánh Hòa, Tỉnh Ninh Thuận, Tỉnh Bình Thuận\n",
      "  + Tây Bắc Bộ:Tỉnh Lào Cai, Tỉnh Điện Biên, Tỉnh Lai Châu, Tỉnh Sơn La, Tỉnh Yên Bái, Tỉnh Hoà Bình\n",
      "  + Tây Nguyên:Tỉnh Kon Tum, Tỉnh Gia Lai, Tỉnh Đắk Lắk, Tỉnh Đắk Nông, Tỉnh Lâm Đồng\n",
      "  + Đông Bắc Bộ:Tỉnh Hà Giang, Tỉnh Cao Bằng, Tỉnh Bắc Kạn, Tỉnh Tuyên Quang, Tỉnh Thái Nguyên, Tỉnh Lạng Sơn, Tỉnh Quảng Ninh, Tỉnh Bắc Giang, Tỉnh Phú Thọ\n",
      "  + Đông Nam Bộ:Tỉnh Bình Phước, Tỉnh Tây Ninh, Tỉnh Bình Dương, Tỉnh Đồng Nai, Tỉnh Bà Rịa - Vũng Tàu\n",
      "  + Đồng bằng sông Cửu Long:Tỉnh Long An, Tỉnh Tiền Giang, Tỉnh Bến Tre, Tỉnh Trà Vinh, Tỉnh Vĩnh Long, Tỉnh Đồng Tháp, Tỉnh An Giang, Tỉnh Kiên Giang, Tỉnh Hậu Giang, Tỉnh Sóc Trăng, Tỉnh Bạc Liêu, Tỉnh Cà Mau\n",
      "  + Đồng bằng sông Hồng:Tỉnh Vĩnh Phúc, Tỉnh Bắc Ninh, Tỉnh Hải Dương, Tỉnh Hưng Yên, Tỉnh Thái Bình, Tỉnh Hà Nam, Tỉnh Nam Định, Tỉnh Ninh Bình\n"
     ]
    }
   ],
   "source": [
    "###Bai 3:\n",
    "num_regions = df[\"Region\"].nunique()\n",
    "print(\"- Number of geographical regions in Vietnam:\", num_regions)\n",
    "\n",
    "provinces_by_regions = df[df['Division'] == 'Tỉnh'].groupby('Region')['Name'].apply(list)\n",
    "\n",
    "print(\"- Every provinces in each region: \")\n",
    "for r, p in provinces_by_regions.items():\n",
    "    print(f'  + {r}:{', '.join(p)}')"
   ]
  },
  {
   "cell_type": "code",
   "execution_count": 48,
   "metadata": {},
   "outputs": [
    {
     "name": "stdout",
     "output_type": "stream",
     "text": [
      "City/Province with the largest population is Tỉnh Đồng Tháp with 9038.6 people\n",
      "City/Province with the smallest population is Thành phố Cần Thơ with 314.4 people\n"
     ]
    }
   ],
   "source": [
    "###Bai 4:\n",
    "# max_pop = df[df[\"Population\"] == df[\"Population\"].max()]\n",
    "# min_pop = df[df[\"Population\"] == df[\"Population\"].min()]\n",
    "\n",
    "print(f'City/Province with the largest population is {df['Name'].max()} with {df['Population'].max()} people')\n",
    "print(f'City/Province with the smallest population is {df['Name'].min()} with {df['Population'].min()} people')\n",
    "\n",
    "\n"
   ]
  }
 ],
 "metadata": {
  "kernelspec": {
   "display_name": "Python 3",
   "language": "python",
   "name": "python3"
  },
  "language_info": {
   "codemirror_mode": {
    "name": "ipython",
    "version": 3
   },
   "file_extension": ".py",
   "mimetype": "text/x-python",
   "name": "python",
   "nbconvert_exporter": "python",
   "pygments_lexer": "ipython3",
   "version": "3.12.6"
  }
 },
 "nbformat": 4,
 "nbformat_minor": 2
}
