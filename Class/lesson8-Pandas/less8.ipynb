{
 "cells": [
  {
   "cell_type": "markdown",
   "metadata": {},
   "source": [
    "Import Pandas library"
   ]
  },
  {
   "cell_type": "code",
   "execution_count": 1,
   "metadata": {},
   "outputs": [],
   "source": [
    "import pandas as pd"
   ]
  },
  {
   "cell_type": "markdown",
   "metadata": {},
   "source": [
    "Enter data into Python"
   ]
  },
  {
   "cell_type": "code",
   "execution_count": 16,
   "metadata": {},
   "outputs": [
    {
     "data": {
      "text/html": [
       "<div>\n",
       "<style scoped>\n",
       "    .dataframe tbody tr th:only-of-type {\n",
       "        vertical-align: middle;\n",
       "    }\n",
       "\n",
       "    .dataframe tbody tr th {\n",
       "        vertical-align: top;\n",
       "    }\n",
       "\n",
       "    .dataframe thead th {\n",
       "        text-align: right;\n",
       "    }\n",
       "</style>\n",
       "<table border=\"1\" class=\"dataframe\">\n",
       "  <thead>\n",
       "    <tr style=\"text-align: right;\">\n",
       "      <th></th>\n",
       "      <th>Team</th>\n",
       "      <th>JerseyNo</th>\n",
       "      <th>Player</th>\n",
       "      <th>Position</th>\n",
       "      <th>Apearances</th>\n",
       "      <th>Substitutions</th>\n",
       "      <th>Goals</th>\n",
       "      <th>Penalties</th>\n",
       "      <th>YellowCards</th>\n",
       "      <th>RedCards</th>\n",
       "    </tr>\n",
       "  </thead>\n",
       "  <tbody>\n",
       "    <tr>\n",
       "      <th>0</th>\n",
       "      <td>Arsenal</td>\n",
       "      <td>7</td>\n",
       "      <td>Bukayo Saka</td>\n",
       "      <td>Defender/Midfielder</td>\n",
       "      <td>40</td>\n",
       "      <td>3</td>\n",
       "      <td>12</td>\n",
       "      <td>2</td>\n",
       "      <td>6.0</td>\n",
       "      <td>0.0</td>\n",
       "    </tr>\n",
       "    <tr>\n",
       "      <th>1</th>\n",
       "      <td>Arsenal</td>\n",
       "      <td>6</td>\n",
       "      <td>Gabriel</td>\n",
       "      <td>Defender</td>\n",
       "      <td>37</td>\n",
       "      <td>1</td>\n",
       "      <td>5</td>\n",
       "      <td>0</td>\n",
       "      <td>7.0</td>\n",
       "      <td>1.0</td>\n",
       "    </tr>\n",
       "    <tr>\n",
       "      <th>2</th>\n",
       "      <td>Arsenal</td>\n",
       "      <td>32</td>\n",
       "      <td>Aaron Ramsdale</td>\n",
       "      <td>Goalkeeper</td>\n",
       "      <td>37</td>\n",
       "      <td>0</td>\n",
       "      <td>0</td>\n",
       "      <td>0</td>\n",
       "      <td>1.0</td>\n",
       "      <td>0.0</td>\n",
       "    </tr>\n",
       "    <tr>\n",
       "      <th>3</th>\n",
       "      <td>Arsenal</td>\n",
       "      <td>4</td>\n",
       "      <td>Ben White</td>\n",
       "      <td>Defender</td>\n",
       "      <td>37</td>\n",
       "      <td>0</td>\n",
       "      <td>0</td>\n",
       "      <td>0</td>\n",
       "      <td>3.0</td>\n",
       "      <td>0.0</td>\n",
       "    </tr>\n",
       "    <tr>\n",
       "      <th>4</th>\n",
       "      <td>Arsenal</td>\n",
       "      <td>8</td>\n",
       "      <td>Martin Odegaard</td>\n",
       "      <td>Midfielder</td>\n",
       "      <td>36</td>\n",
       "      <td>4</td>\n",
       "      <td>7</td>\n",
       "      <td>0</td>\n",
       "      <td>4.0</td>\n",
       "      <td>0.0</td>\n",
       "    </tr>\n",
       "    <tr>\n",
       "      <th>...</th>\n",
       "      <td>...</td>\n",
       "      <td>...</td>\n",
       "      <td>...</td>\n",
       "      <td>...</td>\n",
       "      <td>...</td>\n",
       "      <td>...</td>\n",
       "      <td>...</td>\n",
       "      <td>...</td>\n",
       "      <td>...</td>\n",
       "      <td>...</td>\n",
       "    </tr>\n",
       "    <tr>\n",
       "      <th>618</th>\n",
       "      <td>Wolverhampton Wanderers</td>\n",
       "      <td>21</td>\n",
       "      <td>John Ruddy</td>\n",
       "      <td>Goalkeeper</td>\n",
       "      <td>5</td>\n",
       "      <td>1</td>\n",
       "      <td>0</td>\n",
       "      <td>0</td>\n",
       "      <td>0.0</td>\n",
       "      <td>0.0</td>\n",
       "    </tr>\n",
       "    <tr>\n",
       "      <th>619</th>\n",
       "      <td>Wolverhampton Wanderers</td>\n",
       "      <td>27</td>\n",
       "      <td>Romain Saïss</td>\n",
       "      <td>Defender/Midfielder</td>\n",
       "      <td>32</td>\n",
       "      <td>0</td>\n",
       "      <td>3</td>\n",
       "      <td>0</td>\n",
       "      <td>6.0</td>\n",
       "      <td>0.0</td>\n",
       "    </tr>\n",
       "    <tr>\n",
       "      <th>620</th>\n",
       "      <td>Wolverhampton Wanderers</td>\n",
       "      <td>24</td>\n",
       "      <td>Tote Gomes</td>\n",
       "      <td>Defender</td>\n",
       "      <td>5</td>\n",
       "      <td>0</td>\n",
       "      <td>0</td>\n",
       "      <td>0</td>\n",
       "      <td>1.0</td>\n",
       "      <td>0.0</td>\n",
       "    </tr>\n",
       "    <tr>\n",
       "      <th>621</th>\n",
       "      <td>Wolverhampton Wanderers</td>\n",
       "      <td>37</td>\n",
       "      <td>Adama Traoré</td>\n",
       "      <td>Midfielder/Forward</td>\n",
       "      <td>11</td>\n",
       "      <td>12</td>\n",
       "      <td>1</td>\n",
       "      <td>0</td>\n",
       "      <td>0.0</td>\n",
       "      <td>0.0</td>\n",
       "    </tr>\n",
       "    <tr>\n",
       "      <th>622</th>\n",
       "      <td>Wolverhampton Wanderers</td>\n",
       "      <td>11</td>\n",
       "      <td>Trincão</td>\n",
       "      <td>Midfielder/Forward</td>\n",
       "      <td>16</td>\n",
       "      <td>14</td>\n",
       "      <td>3</td>\n",
       "      <td>0</td>\n",
       "      <td>0.0</td>\n",
       "      <td>0.0</td>\n",
       "    </tr>\n",
       "  </tbody>\n",
       "</table>\n",
       "<p>623 rows × 10 columns</p>\n",
       "</div>"
      ],
      "text/plain": [
       "                        Team  JerseyNo           Player             Position  \\\n",
       "0                    Arsenal         7      Bukayo Saka  Defender/Midfielder   \n",
       "1                    Arsenal         6          Gabriel             Defender   \n",
       "2                    Arsenal        32   Aaron Ramsdale           Goalkeeper   \n",
       "3                    Arsenal         4        Ben White             Defender   \n",
       "4                    Arsenal         8  Martin Odegaard           Midfielder   \n",
       "..                       ...       ...              ...                  ...   \n",
       "618  Wolverhampton Wanderers        21       John Ruddy           Goalkeeper   \n",
       "619  Wolverhampton Wanderers        27     Romain Saïss  Defender/Midfielder   \n",
       "620  Wolverhampton Wanderers        24       Tote Gomes             Defender   \n",
       "621  Wolverhampton Wanderers        37     Adama Traoré   Midfielder/Forward   \n",
       "622  Wolverhampton Wanderers        11          Trincão   Midfielder/Forward   \n",
       "\n",
       "     Apearances  Substitutions  Goals  Penalties  YellowCards  RedCards  \n",
       "0            40              3     12          2          6.0       0.0  \n",
       "1            37              1      5          0          7.0       1.0  \n",
       "2            37              0      0          0          1.0       0.0  \n",
       "3            37              0      0          0          3.0       0.0  \n",
       "4            36              4      7          0          4.0       0.0  \n",
       "..          ...            ...    ...        ...          ...       ...  \n",
       "618           5              1      0          0          0.0       0.0  \n",
       "619          32              0      3          0          6.0       0.0  \n",
       "620           5              0      0          0          1.0       0.0  \n",
       "621          11             12      1          0          0.0       0.0  \n",
       "622          16             14      3          0          0.0       0.0  \n",
       "\n",
       "[623 rows x 10 columns]"
      ]
     },
     "execution_count": 16,
     "metadata": {},
     "output_type": "execute_result"
    }
   ],
   "source": [
    "data = pd.read_csv('all_players_stats.csv')\n",
    "data "
   ]
  },
  {
   "cell_type": "code",
   "execution_count": null,
   "metadata": {},
   "outputs": [],
   "source": [
    "sample = {\n",
    "    'Student_ID': [1,2],\n",
    "    'Name': ['Huy', 'たい']\n",
    "}\n",
    "df_sample = pd.DataFrame(sample)\n",
    "df_sample"
   ]
  },
  {
   "cell_type": "markdown",
   "metadata": {},
   "source": [
    "Exploratory Data Analysis\n"
   ]
  },
  {
   "cell_type": "code",
   "execution_count": null,
   "metadata": {},
   "outputs": [],
   "source": [
    "data['Position'].value_counts()"
   ]
  },
  {
   "cell_type": "code",
   "execution_count": null,
   "metadata": {},
   "outputs": [],
   "source": [
    "data.info()"
   ]
  },
  {
   "cell_type": "code",
   "execution_count": null,
   "metadata": {},
   "outputs": [],
   "source": [
    "data.columns"
   ]
  },
  {
   "cell_type": "code",
   "execution_count": null,
   "metadata": {},
   "outputs": [],
   "source": [
    "data.describe()"
   ]
  },
  {
   "cell_type": "markdown",
   "metadata": {},
   "source": [
    "Test Work\n"
   ]
  },
  {
   "cell_type": "code",
   "execution_count": null,
   "metadata": {},
   "outputs": [],
   "source": [
    "###\n",
    "data.groupby('Team')['Appearances'].max()"
   ]
  }
 ],
 "metadata": {
  "kernelspec": {
   "display_name": "Python 3",
   "language": "python",
   "name": "python3"
  },
  "language_info": {
   "codemirror_mode": {
    "name": "ipython",
    "version": 3
   },
   "file_extension": ".py",
   "mimetype": "text/x-python",
   "name": "python",
   "nbconvert_exporter": "python",
   "pygments_lexer": "ipython3",
   "version": "3.12.6"
  }
 },
 "nbformat": 4,
 "nbformat_minor": 2
}
